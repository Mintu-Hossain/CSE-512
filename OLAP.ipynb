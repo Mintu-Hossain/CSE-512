{
 "cells": [
  {
   "cell_type": "markdown",
   "id": "6dcab84e",
   "metadata": {},
   "source": [
    "## Packages Installallation"
   ]
  },
  {
   "cell_type": "code",
   "execution_count": 1,
   "id": "f5694ec7",
   "metadata": {},
   "outputs": [
    {
     "name": "stdout",
     "output_type": "stream",
     "text": [
      "Requirement already satisfied: psycopg2 in c:\\users\\user\\anaconda3\\lib\\site-packages (2.9.6)\n",
      "Note: you may need to restart the kernel to use updated packages.\n"
     ]
    }
   ],
   "source": [
    "pip install psycopg2"
   ]
  },
  {
   "cell_type": "code",
   "execution_count": 2,
   "id": "c1e85a89",
   "metadata": {},
   "outputs": [
    {
     "name": "stdout",
     "output_type": "stream",
     "text": [
      "Requirement already satisfied: openpyxl in c:\\users\\user\\anaconda3\\lib\\site-packages (3.0.10)\n",
      "Requirement already satisfied: et_xmlfile in c:\\users\\user\\anaconda3\\lib\\site-packages (from openpyxl) (1.1.0)\n",
      "Note: you may need to restart the kernel to use updated packages.\n"
     ]
    }
   ],
   "source": [
    "pip install openpyxl"
   ]
  },
  {
   "cell_type": "code",
   "execution_count": 3,
   "id": "8d4ac767",
   "metadata": {},
   "outputs": [
    {
     "name": "stdout",
     "output_type": "stream",
     "text": [
      "Requirement already satisfied: pandas in c:\\users\\user\\anaconda3\\lib\\site-packages (1.4.4)\n",
      "Requirement already satisfied: python-dateutil>=2.8.1 in c:\\users\\user\\anaconda3\\lib\\site-packages (from pandas) (2.8.2)\n",
      "Requirement already satisfied: pytz>=2020.1 in c:\\users\\user\\anaconda3\\lib\\site-packages (from pandas) (2022.1)\n",
      "Requirement already satisfied: numpy>=1.18.5 in c:\\users\\user\\anaconda3\\lib\\site-packages (from pandas) (1.23.5)\n",
      "Requirement already satisfied: six>=1.5 in c:\\users\\user\\anaconda3\\lib\\site-packages (from python-dateutil>=2.8.1->pandas) (1.16.0)\n",
      "Note: you may need to restart the kernel to use updated packages.\n"
     ]
    }
   ],
   "source": [
    "pip install pandas"
   ]
  },
  {
   "cell_type": "code",
   "execution_count": 4,
   "id": "ade3ba07",
   "metadata": {},
   "outputs": [
    {
     "name": "stdout",
     "output_type": "stream",
     "text": [
      "Requirement already satisfied: seaborn in c:\\users\\user\\anaconda3\\lib\\site-packages (0.11.2)\n",
      "Requirement already satisfied: numpy>=1.15 in c:\\users\\user\\anaconda3\\lib\\site-packages (from seaborn) (1.23.5)\n",
      "Requirement already satisfied: scipy>=1.0 in c:\\users\\user\\anaconda3\\lib\\site-packages (from seaborn) (1.9.1)\n",
      "Requirement already satisfied: pandas>=0.23 in c:\\users\\user\\anaconda3\\lib\\site-packages (from seaborn) (1.4.4)\n",
      "Requirement already satisfied: matplotlib>=2.2 in c:\\users\\user\\anaconda3\\lib\\site-packages (from seaborn) (3.5.2)\n",
      "Requirement already satisfied: cycler>=0.10 in c:\\users\\user\\anaconda3\\lib\\site-packages (from matplotlib>=2.2->seaborn) (0.11.0)\n",
      "Requirement already satisfied: fonttools>=4.22.0 in c:\\users\\user\\anaconda3\\lib\\site-packages (from matplotlib>=2.2->seaborn) (4.25.0)\n",
      "Requirement already satisfied: kiwisolver>=1.0.1 in c:\\users\\user\\anaconda3\\lib\\site-packages (from matplotlib>=2.2->seaborn) (1.4.2)\n",
      "Requirement already satisfied: packaging>=20.0 in c:\\users\\user\\anaconda3\\lib\\site-packages (from matplotlib>=2.2->seaborn) (21.3)\n",
      "Requirement already satisfied: pillow>=6.2.0 in c:\\users\\user\\anaconda3\\lib\\site-packages (from matplotlib>=2.2->seaborn) (9.2.0)\n",
      "Requirement already satisfied: pyparsing>=2.2.1 in c:\\users\\user\\anaconda3\\lib\\site-packages (from matplotlib>=2.2->seaborn) (3.0.9)\n",
      "Requirement already satisfied: python-dateutil>=2.7 in c:\\users\\user\\anaconda3\\lib\\site-packages (from matplotlib>=2.2->seaborn) (2.8.2)\n",
      "Requirement already satisfied: pytz>=2020.1 in c:\\users\\user\\anaconda3\\lib\\site-packages (from pandas>=0.23->seaborn) (2022.1)\n",
      "Requirement already satisfied: six>=1.5 in c:\\users\\user\\anaconda3\\lib\\site-packages (from python-dateutil>=2.7->matplotlib>=2.2->seaborn) (1.16.0)\n",
      "Note: you may need to restart the kernel to use updated packages.\n"
     ]
    }
   ],
   "source": [
    "pip install seaborn"
   ]
  },
  {
   "cell_type": "code",
   "execution_count": 5,
   "id": "448572c9",
   "metadata": {},
   "outputs": [
    {
     "name": "stdout",
     "output_type": "stream",
     "text": [
      "Requirement already satisfied: tqdm in c:\\users\\user\\anaconda3\\lib\\site-packages (4.64.1)\n",
      "Requirement already satisfied: colorama in c:\\users\\user\\anaconda3\\lib\\site-packages (from tqdm) (0.4.6)\n",
      "Note: you may need to restart the kernel to use updated packages.\n"
     ]
    }
   ],
   "source": [
    "pip install tqdm"
   ]
  },
  {
   "cell_type": "markdown",
   "id": "cf8019df",
   "metadata": {},
   "source": [
    "## Importing Libraries "
   ]
  },
  {
   "cell_type": "code",
   "execution_count": 6,
   "id": "9039c4a0",
   "metadata": {},
   "outputs": [],
   "source": [
    "import psycopg2\n",
    "import pandas as pd\n",
    "import psycopg2.extras\n",
    "import pandas as pd\n",
    "import seaborn as sns\n",
    "import matplotlib.pyplot as plt\n",
    "from tqdm import tqdm"
   ]
  },
  {
   "cell_type": "markdown",
   "id": "7358435f",
   "metadata": {},
   "source": [
    "## Data Load "
   ]
  },
  {
   "cell_type": "code",
   "execution_count": 7,
   "id": "79e811d0",
   "metadata": {},
   "outputs": [],
   "source": [
    "class EcomDataLoader:\n",
    "    \"\"\"\n",
    "    A class to load E-commerce data from an Excel file into Pandas DataFrames.\n",
    "    \"\"\"\n",
    "    \n",
    "    def __init__(self, file_path):\n",
    "        \"\"\"\n",
    "        Initializes the EcommerceDataLoader class with the file path to the Excel file.\n",
    "        \"\"\"\n",
    "        self.file_path = file_path\n",
    "        \n",
    "    def load_fact_table(self):\n",
    "        \"\"\"\n",
    "        Loads the fact table from the Excel file into a Pandas DataFrame.\n",
    "        \"\"\"\n",
    "        return pd.read_excel(self.file_path, sheet_name='Fact_table')\n",
    "    \n",
    "    def load_transaction_dim(self):\n",
    "        \"\"\"\n",
    "        Loads the transaction dimension table from the Excel file into a Pandas DataFrame.\n",
    "        \"\"\"\n",
    "        return pd.read_excel(self.file_path, sheet_name='Trans_dim')\n",
    "    \n",
    "    def load_item_dim(self):\n",
    "        \"\"\"\n",
    "        Loads the item dimension table from the Excel file into a Pandas DataFrame.\n",
    "        \"\"\"\n",
    "        return pd.read_excel(self.file_path, sheet_name='Item_dim')\n",
    "    \n",
    "    def load_customer_dim(self):\n",
    "        \"\"\"\n",
    "        Loads the customer dimension table from the Excel file into a Pandas DataFrame.\n",
    "        \"\"\"\n",
    "        return pd.read_excel(self.file_path, sheet_name='Coustomer_dim')\n",
    "    \n",
    "    def load_time_dim(self):\n",
    "        \"\"\"\n",
    "        Loads the time dimension table from the Excel file into a Pandas DataFrame.\n",
    "        \"\"\"\n",
    "        return pd.read_excel(self.file_path, sheet_name='Time_dim')\n",
    "    \n",
    "    def load_store_dim(self):\n",
    "        \"\"\"\n",
    "        Loads the store dimension table from the Excel file into a Pandas DataFrame.\n",
    "        \"\"\"\n",
    "        return pd.read_excel(self.file_path, sheet_name='Store_dim')\n",
    "\n",
    "# create an instance of this class and use its methods\n",
    "data_loader = EcomDataLoader(r'G:\\1. NSU\\3. DDBMS\\Project\\e_commerece_data.xlsx')\n",
    "fact_table = data_loader.load_fact_table()\n",
    "transaction_dim = data_loader.load_transaction_dim()\n",
    "item_dim = data_loader.load_item_dim()\n",
    "customer_dim = data_loader.load_customer_dim()\n",
    "time_dim = data_loader.load_time_dim()\n",
    "store_dim = data_loader.load_store_dim()"
   ]
  },
  {
   "cell_type": "code",
   "execution_count": 8,
   "id": "7899dd58",
   "metadata": {},
   "outputs": [
    {
     "data": {
      "text/html": [
       "<div>\n",
       "<style scoped>\n",
       "    .dataframe tbody tr th:only-of-type {\n",
       "        vertical-align: middle;\n",
       "    }\n",
       "\n",
       "    .dataframe tbody tr th {\n",
       "        vertical-align: top;\n",
       "    }\n",
       "\n",
       "    .dataframe thead th {\n",
       "        text-align: right;\n",
       "    }\n",
       "</style>\n",
       "<table border=\"1\" class=\"dataframe\">\n",
       "  <thead>\n",
       "    <tr style=\"text-align: right;\">\n",
       "      <th></th>\n",
       "      <th>payment_key</th>\n",
       "      <th>coustomer_key</th>\n",
       "      <th>time_key</th>\n",
       "      <th>item_key</th>\n",
       "      <th>store_key</th>\n",
       "      <th>quantity</th>\n",
       "      <th>unit</th>\n",
       "      <th>unit_price</th>\n",
       "      <th>total_price</th>\n",
       "    </tr>\n",
       "  </thead>\n",
       "  <tbody>\n",
       "    <tr>\n",
       "      <th>0</th>\n",
       "      <td>P026</td>\n",
       "      <td>C004510</td>\n",
       "      <td>T049189</td>\n",
       "      <td>I00177</td>\n",
       "      <td>S00307</td>\n",
       "      <td>1</td>\n",
       "      <td>ct</td>\n",
       "      <td>35.0</td>\n",
       "      <td>35.0</td>\n",
       "    </tr>\n",
       "    <tr>\n",
       "      <th>1</th>\n",
       "      <td>P022</td>\n",
       "      <td>C008967</td>\n",
       "      <td>T041209</td>\n",
       "      <td>I00248</td>\n",
       "      <td>S00595</td>\n",
       "      <td>1</td>\n",
       "      <td>rolls</td>\n",
       "      <td>26.0</td>\n",
       "      <td>26.0</td>\n",
       "    </tr>\n",
       "    <tr>\n",
       "      <th>2</th>\n",
       "      <td>P030</td>\n",
       "      <td>C007261</td>\n",
       "      <td>T03633</td>\n",
       "      <td>I00195</td>\n",
       "      <td>S00496</td>\n",
       "      <td>8</td>\n",
       "      <td>ct</td>\n",
       "      <td>12.5</td>\n",
       "      <td>100.0</td>\n",
       "    </tr>\n",
       "    <tr>\n",
       "      <th>3</th>\n",
       "      <td>P032</td>\n",
       "      <td>C007048</td>\n",
       "      <td>T084631</td>\n",
       "      <td>I00131</td>\n",
       "      <td>S0086</td>\n",
       "      <td>8</td>\n",
       "      <td>ct</td>\n",
       "      <td>14.0</td>\n",
       "      <td>112.0</td>\n",
       "    </tr>\n",
       "    <tr>\n",
       "      <th>4</th>\n",
       "      <td>P014</td>\n",
       "      <td>C006430</td>\n",
       "      <td>T071276</td>\n",
       "      <td>I00050</td>\n",
       "      <td>S00488</td>\n",
       "      <td>8</td>\n",
       "      <td>cans</td>\n",
       "      <td>8.0</td>\n",
       "      <td>64.0</td>\n",
       "    </tr>\n",
       "  </tbody>\n",
       "</table>\n",
       "</div>"
      ],
      "text/plain": [
       "  payment_key coustomer_key time_key item_key store_key  quantity   unit  \\\n",
       "0        P026       C004510  T049189   I00177    S00307         1     ct   \n",
       "1        P022       C008967  T041209   I00248    S00595         1  rolls   \n",
       "2        P030       C007261   T03633   I00195    S00496         8     ct   \n",
       "3        P032       C007048  T084631   I00131     S0086         8     ct   \n",
       "4        P014       C006430  T071276   I00050    S00488         8   cans   \n",
       "\n",
       "   unit_price  total_price  \n",
       "0        35.0         35.0  \n",
       "1        26.0         26.0  \n",
       "2        12.5        100.0  \n",
       "3        14.0        112.0  \n",
       "4         8.0         64.0  "
      ]
     },
     "execution_count": 8,
     "metadata": {},
     "output_type": "execute_result"
    }
   ],
   "source": [
    "fact_table.head(5)"
   ]
  },
  {
   "cell_type": "markdown",
   "id": "7cf995d6",
   "metadata": {},
   "source": [
    "## Database Connection "
   ]
  },
  {
   "cell_type": "code",
   "execution_count": 24,
   "id": "b4ff73ef",
   "metadata": {},
   "outputs": [
    {
     "name": "stdout",
     "output_type": "stream",
     "text": [
      "Successfully Connected!\n"
     ]
    }
   ],
   "source": [
    "class PostgresConnection(object):\n",
    "    def __init__(self):\n",
    "        self.connection = psycopg2.connect(database=\"postgres\",\n",
    "                                           user = \"postgres\",\n",
    "                                           password = \"12345\",\n",
    "                                           host = \"localhost\",\n",
    "                                           port = \"5432\")\n",
    "\n",
    "    def getConnection(self):\n",
    "        print(\"Successfully Connected!\")\n",
    "        return self.connection\n",
    "    \n",
    "con = PostgresConnection().getConnection()"
   ]
  },
  {
   "cell_type": "markdown",
   "id": "7c7e4670",
   "metadata": {},
   "source": [
    "## Insert Data into Tables "
   ]
  },
  {
   "cell_type": "code",
   "execution_count": 25,
   "id": "171a891a",
   "metadata": {},
   "outputs": [],
   "source": [
    "class InsertData:\n",
    "    def __init__(self, con):\n",
    "        self.con = con\n",
    "        self.cur = self.con.cursor()\n",
    "\n",
    "    def insert_trans_dim(self, values):\n",
    "        insert_stmt = \"INSERT INTO ecomdb.trans_dim(payment_key, trans_type, bank_name) VALUES (%s, %s, %s)\"\n",
    "        with tqdm(total=len(values)) as pbar:\n",
    "            psycopg2.extras.execute_batch(self.cur, insert_stmt, values, page_size=1000)\n",
    "            pbar.update(len(values))\n",
    "        print(f\"{len(values)} rows inserted into trans_dim table\")\n",
    "\n",
    "    def insert_store_dim(self, values):\n",
    "        insert_stmt = \"INSERT INTO ecomdb.store_dim( store_key, division, district, upazila) VALUES (%s, %s, %s, %s);\"\n",
    "        with tqdm(total=len(values)) as pbar:\n",
    "            psycopg2.extras.execute_batch(self.cur, insert_stmt, values, page_size=1000)\n",
    "            pbar.update(len(values))\n",
    "        print(f\"{len(values)} rows inserted into store_dim table\")\n",
    "\n",
    "    def insert_item_dim(self, values):\n",
    "        insert_stmt = \"INSERT INTO ecomdb.item_dim(item_key, item_name, \\\"desc\\\", unit_price, man_country, supplier, unit) VALUES (%s, %s, %s, %s, %s, %s, %s);\"\n",
    "        with tqdm(total=len(values)) as pbar:\n",
    "            psycopg2.extras.execute_batch(self.cur, insert_stmt, values, page_size=1000)\n",
    "            pbar.update(len(values))\n",
    "        print(f\"{len(values)} rows inserted into item_dim table\")\n",
    "\n",
    "    def insert_customer_dim(self, values):\n",
    "        insert_stmt = \"INSERT INTO ecomdb.customer_dim(customer_key, name, contact_no, nid)VALUES (%s, %s, %s, %s);\"\n",
    "        with tqdm(total=len(values)) as pbar:\n",
    "            psycopg2.extras.execute_batch(self.cur, insert_stmt, values, page_size=1000)\n",
    "            pbar.update(len(values))\n",
    "        print(f\"{len(values)} rows inserted into customer_dim table\")\n",
    "\n",
    "    def insert_time_dim(self, values):\n",
    "        insert_stmt = \"INSERT INTO ecomdb.time_dim(time_key, date, hour, day, week, month, quarter, year)VALUES (%s, %s, %s, %s, %s, %s, %s, %s);\"\n",
    "        with tqdm(total=len(values)) as pbar:\n",
    "            psycopg2.extras.execute_batch(self.cur, insert_stmt, values, page_size=1000)\n",
    "            pbar.update(len(values))\n",
    "        print(f\"{len(values)} rows inserted into time_dim table\")\n",
    "\n",
    "    def insert_fact_table(self, values):\n",
    "        insert_stmt = \"INSERT INTO ecomdb.fact_table(payment_key, customer_key, time_key, item_key, store_key, quantity, unit, unit_price, total_price)VALUES (%s, %s, %s, %s, %s, %s, %s, %s, %s) ON CONFLICT DO NOTHING;\"\n",
    "        with tqdm(total=len(values)) as pbar:\n",
    "            psycopg2.extras.execute_batch(self.cur, insert_stmt, values, page_size=1000)\n",
    "            pbar.update(len(values))\n",
    "        print(f\"{len(values)} rows inserted into fact_table\")\n",
    "        \n",
    "\n",
    "    def commit(self):\n",
    "        \n",
    "        try:\n",
    "            self.con.commit()\n",
    "        except:\n",
    "            self.con.rollback()\n",
    "            raise\n",
    "\n",
    "\n",
    "    def close(self):\n",
    "        self.cur.close()\n",
    "        self.con.close()\n"
   ]
  },
  {
   "cell_type": "markdown",
   "id": "60937a80",
   "metadata": {},
   "source": [
    "## Inserting to the Database "
   ]
  },
  {
   "cell_type": "code",
   "execution_count": 26,
   "id": "d277f468",
   "metadata": {},
   "outputs": [
    {
     "name": "stderr",
     "output_type": "stream",
     "text": [
      "100%|██████████████████████████████████████████████████████████████████████████████████████████| 39/39 [00:00<?, ?it/s]\n"
     ]
    },
    {
     "name": "stdout",
     "output_type": "stream",
     "text": [
      "39 rows inserted into trans_dim table\n"
     ]
    },
    {
     "name": "stderr",
     "output_type": "stream",
     "text": [
      "100%|█████████████████████████████████████████████████████████████████████████████| 726/726 [00:00<00:00, 21261.45it/s]\n"
     ]
    },
    {
     "name": "stdout",
     "output_type": "stream",
     "text": [
      "726 rows inserted into store_dim table\n"
     ]
    },
    {
     "name": "stderr",
     "output_type": "stream",
     "text": [
      "100%|█████████████████████████████████████████████████████████████████████████████| 264/264 [00:00<00:00, 10124.22it/s]\n"
     ]
    },
    {
     "name": "stdout",
     "output_type": "stream",
     "text": [
      "264 rows inserted into item_dim table\n"
     ]
    },
    {
     "name": "stderr",
     "output_type": "stream",
     "text": [
      "100%|███████████████████████████████████████████████████████████████████████████| 9191/9191 [00:00<00:00, 20631.08it/s]\n"
     ]
    },
    {
     "name": "stdout",
     "output_type": "stream",
     "text": [
      "9191 rows inserted into customer_dim table\n"
     ]
    },
    {
     "name": "stderr",
     "output_type": "stream",
     "text": [
      "100%|█████████████████████████████████████████████████████████████████████████| 99999/99999 [00:05<00:00, 19603.79it/s]\n"
     ]
    },
    {
     "name": "stdout",
     "output_type": "stream",
     "text": [
      "99999 rows inserted into time_dim table\n"
     ]
    },
    {
     "name": "stderr",
     "output_type": "stream",
     "text": [
      "100%|█████████████████████████████████████████████████████████████████████| 1000000/1000000 [01:05<00:00, 15253.35it/s]"
     ]
    },
    {
     "name": "stdout",
     "output_type": "stream",
     "text": [
      "1000000 rows inserted into fact_table\n"
     ]
    },
    {
     "name": "stderr",
     "output_type": "stream",
     "text": [
      "\n"
     ]
    }
   ],
   "source": [
    "try:\n",
    "    data_inserter = InsertData(con)\n",
    "    data_inserter.insert_trans_dim(transaction_dim.values)\n",
    "    data_inserter.insert_store_dim(store_dim.values)\n",
    "    data_inserter.insert_item_dim(item_dim.values)\n",
    "    data_inserter.insert_customer_dim(customer_dim.values)\n",
    "    data_inserter.insert_time_dim(time_dim.values)\n",
    "    data_inserter.insert_fact_table(fact_table.values)\n",
    "    data_inserter.commit()\n",
    "except Exception as e:\n",
    "    print(f\"Error: {str(e)}\")\n",
    "    con.rollback()\n",
    "finally:\n",
    "    data_inserter.close()\n"
   ]
  },
  {
   "cell_type": "markdown",
   "id": "247c589b",
   "metadata": {},
   "source": [
    "# *** OLAP Query *** "
   ]
  },
  {
   "cell_type": "markdown",
   "id": "15adbeae",
   "metadata": {},
   "source": [
    "#### Q1: Find the division/district/year/month wise total_sale_price joining fact table and respective dimension table  "
   ]
  },
  {
   "cell_type": "code",
   "execution_count": 27,
   "id": "bd8ae439",
   "metadata": {},
   "outputs": [
    {
     "name": "stdout",
     "output_type": "stream",
     "text": [
      "Successfully Connected!\n",
      "[('BARISAL', Decimal('2737')), ('CHITTAGONG', Decimal('4845')), ('DHAKA', Decimal('13260')), ('KHULNA', Decimal('3162')), ('RAJSHAHI', Decimal('4522')), ('RANGPUR', Decimal('3009')), ('SYLHET', Decimal('1360'))]\n"
     ]
    }
   ],
   "source": [
    "class SalesByDivision:\n",
    "    def __init__(self, db_connection):\n",
    "        self.db_connection = db_connection\n",
    "    \n",
    "    def get_sales_by_division(self):\n",
    "        try:\n",
    "            cur = self.db_connection.cursor()\n",
    "            cur.execute(\"BEGIN\")\n",
    "\n",
    "            select_stmt = \"\"\"\n",
    "            SELECT s.division, SUM(CAST(t.total_price AS DECIMAL))\n",
    "            FROM ecomdb.fact_table t\n",
    "            JOIN ecomdb.store_dim s on s.store_key=t.store_key\n",
    "            JOIN ecomdb.time_dim tim on tim.time_key=t.time_key\n",
    "            WHERE tim.month=12\n",
    "            GROUP BY s.division\n",
    "            ORDER BY s.division\n",
    "            \"\"\"\n",
    "            cur.execute(select_stmt)\n",
    "            records = cur.fetchall()\n",
    "\n",
    "            cur.execute(\"COMMIT\")\n",
    "\n",
    "            cur.close()\n",
    "            \n",
    "            return records\n",
    "\n",
    "        except Exception as e:\n",
    "            cur.execute(\"ROLLBACK\")\n",
    "            print(\"Error occurred:\", e)\n",
    "\n",
    "        finally:\n",
    "            self.db_connection.close()\n",
    "\n",
    "db_conn = PostgresConnection().getConnection()\n",
    "sales_division = SalesByDivision(db_conn)\n",
    "sales_by_division_data = sales_division.get_sales_by_division()\n",
    "print(sales_by_division_data)"
   ]
  },
  {
   "cell_type": "markdown",
   "id": "977882d9",
   "metadata": {},
   "source": [
    "#### Q2: Find the customer/bank/transaction(cash/online) wise total_sale_price joining fact table and respective dimension table"
   ]
  },
  {
   "cell_type": "code",
   "execution_count": 28,
   "id": "388a29f9",
   "metadata": {},
   "outputs": [
    {
     "name": "stdout",
     "output_type": "stream",
     "text": [
      "Successfully Connected!\n",
      "                         bank_name      customer_name transaction_type  \\\n",
      "0                             None               None             None   \n",
      "1        Dutch-Bangla Bank Limited            gulshan             card   \n",
      "2       United Commercial Bank Ltd         dhakhadevi             card   \n",
      "3               Trust Bank Limited         rajl /raju             card   \n",
      "4               Padma Bank Limited    saraswati thapa             card   \n",
      "...                            ...                ...              ...   \n",
      "336067           Bank Asia Limited       kajal@sundri             card   \n",
      "336068           BRAC Bank Limited          km vijeta             card   \n",
      "336069     Mercantile Bank Limited             sabnam             card   \n",
      "336070     NRB Commercial Bank Ltd     baban @ suresh             card   \n",
      "336071       Citizens Bank Limited  mala devi @ nisha             card   \n",
      "\n",
      "        total_sale_price  \n",
      "0               377298.0  \n",
      "1                    NaN  \n",
      "2                    NaN  \n",
      "3                    NaN  \n",
      "4                    NaN  \n",
      "...                  ...  \n",
      "336067               NaN  \n",
      "336068               NaN  \n",
      "336069               NaN  \n",
      "336070               NaN  \n",
      "336071               NaN  \n",
      "\n",
      "[336072 rows x 4 columns]\n"
     ]
    }
   ],
   "source": [
    "class SalesByBankAndCustomer:\n",
    "    def __init__(self, db_connection):\n",
    "        self.db_connection = db_connection\n",
    "    \n",
    "    def get_sales_by_bank_and_customer(self):\n",
    "        try:\n",
    "            cur = self.db_connection.cursor()\n",
    "            cur.execute(\"BEGIN\")\n",
    "            \n",
    "            select_stmt = \"\"\"\n",
    "            SELECT\n",
    "                trans_dim.bank_name AS bank_name,\n",
    "                customer_dim.name AS customer_name,\n",
    "                trans_dim.trans_type AS transaction_type,\n",
    "                SUM(CAST(fact_table.total_price AS INTEGER)) AS total_sale_price\n",
    "            FROM\n",
    "                ecomdb.fact_table\n",
    "                JOIN ecomdb.trans_dim ON fact_table.payment_key = trans_dim.payment_key\n",
    "                JOIN ecomdb.customer_dim ON fact_table.customer_key = customer_dim.customer_key\n",
    "            GROUP BY\n",
    "                ROLLUP(trans_dim.bank_name, customer_dim.name, trans_dim.trans_type)\n",
    "            \"\"\"\n",
    "\n",
    "            cur.execute(select_stmt)\n",
    "\n",
    "            records = cur.fetchall()\n",
    "\n",
    "            cur.execute(\"COMMIT\")\n",
    "\n",
    "            df = pd.DataFrame(records, columns=['bank_name', 'customer_name', 'transaction_type', 'total_sale_price'])\n",
    "            \n",
    "            return df\n",
    "\n",
    "        except Exception as e:\n",
    "            cur.execute(\"ROLLBACK\")\n",
    "            print(\"Error occurred:\", e)\n",
    "\n",
    "        finally:\n",
    "            cur.close()\n",
    "            self.db_connection.close()\n",
    "\n",
    "db_conn = PostgresConnection().getConnection()\n",
    "sales_by_bank_and_customer = SalesByBankAndCustomer(db_conn)\n",
    "sales_by_bank_and_customer_data = sales_by_bank_and_customer.get_sales_by_bank_and_customer()\n",
    "print(sales_by_bank_and_customer_data)"
   ]
  },
  {
   "cell_type": "markdown",
   "id": "69460812",
   "metadata": {},
   "source": [
    "#### Q3: Total sales in Barisal for item 'Pepsi - 12 oz cans' "
   ]
  },
  {
   "cell_type": "code",
   "execution_count": 29,
   "id": "32b650f9",
   "metadata": {},
   "outputs": [
    {
     "name": "stdout",
     "output_type": "stream",
     "text": [
      "Successfully Connected!\n",
      "Total sales in Barisal: []\n",
      "Successfully Connected!\n",
      "Total sales in Chittagong: []\n"
     ]
    }
   ],
   "source": [
    "class SalesByDistrict:\n",
    "    def __init__(self, db_connection):\n",
    "        self.db_connection = db_connection\n",
    "    \n",
    "    def get_sales_by_district(self, district):\n",
    "        try:\n",
    "            # begin a transaction\n",
    "            cur = self.db_connection.cursor()\n",
    "            cur.execute(\"BEGIN\")\n",
    "\n",
    "            # execute the query\n",
    "            select_stmt = f\"\"\"\n",
    "            SELECT s.district, SUM(CAST(t.total_price AS DECIMAL))\n",
    "            FROM ecomdb.fact_table t\n",
    "            JOIN ecomdb.store_dim s on s.store_key=t.store_key\n",
    "            JOIN ecomdb.time_dim tim on tim.time_key=t.time_key\n",
    "            WHERE s.district = '{district}'\n",
    "            GROUP BY s.district\n",
    "            \"\"\"\n",
    "            cur.execute(select_stmt)\n",
    "\n",
    "            # fetch the results\n",
    "            records = cur.fetchall()\n",
    "\n",
    "            # commit the transaction\n",
    "            cur.execute(\"COMMIT\")\n",
    "\n",
    "            # close the cursor\n",
    "            cur.close()\n",
    "            \n",
    "            return records\n",
    "\n",
    "        except Exception as e:\n",
    "            # rollback the transaction if an error occurs\n",
    "            cur.execute(\"ROLLBACK\")\n",
    "            print(\"Error occurred:\", e)\n",
    "\n",
    "        finally:\n",
    "            # close the connection\n",
    "            self.db_connection.close()\n",
    "\n",
    "\n",
    "# Create a PostgresConnection object and pass it to the SalesByDistrict class\n",
    "db_conn = PostgresConnection().getConnection()\n",
    "sales_district = SalesByDistrict(db_conn)\n",
    "sales_by_district_data = sales_district.get_sales_by_district('Barisal')\n",
    "print(f\"Total sales in Barisal: {sales_by_district_data}\")\n",
    "\n",
    "\n",
    "# execute the second query\n",
    "con = PostgresConnection().getConnection()\n",
    "cur = con.cursor()\n",
    "\n",
    "# execute the query\n",
    "try:\n",
    "    cur.execute(\"BEGIN\")\n",
    "    select_stmt = \"SELECT s.district, SUM(CAST(t.total_price AS DECIMAL)) \" \\\n",
    "                  \"FROM ecomdb.fact_table t \" \\\n",
    "                  \"JOIN ecomdb.store_dim s ON s.store_key = t.store_key \" \\\n",
    "                  \"JOIN ecomdb.time_dim tim ON tim.time_key = t.time_key \" \\\n",
    "                  \"WHERE s.district = 'Chittagong' \" \\\n",
    "                  \"GROUP BY s.district\"\n",
    "    cur.execute(select_stmt)\n",
    "    records = cur.fetchall()\n",
    "    cur.execute(\"COMMIT\")\n",
    "except:\n",
    "    cur.execute(\"ROLLBACK\")\n",
    "    raise\n",
    "\n",
    "print(f\"Total sales in Chittagong: {records}\")\n",
    "\n",
    "cur.close()\n",
    "con.close()"
   ]
  },
  {
   "cell_type": "markdown",
   "id": "10f9ac55",
   "metadata": {},
   "source": [
    "#### Q4: Total sales in 2015 for supplier 'BIGSO AB' "
   ]
  },
  {
   "cell_type": "code",
   "execution_count": 30,
   "id": "73d1664a",
   "metadata": {},
   "outputs": [
    {
     "name": "stdout",
     "output_type": "stream",
     "text": [
      "Successfully Connected!\n",
      "Total sales in 2015: [(53482,)]\n"
     ]
    }
   ],
   "source": [
    "class SalesByYear:\n",
    "    def __init__(self, db_connection):\n",
    "        self.db_connection = db_connection\n",
    "    \n",
    "    def get_sales_by_year(self):\n",
    "        try:\n",
    "            # begin a transaction\n",
    "            cur = self.db_connection.cursor()\n",
    "            cur.execute(\"BEGIN\")\n",
    "\n",
    "            # execute the query\n",
    "            select_stmt = \"\"\"\n",
    "            SELECT SUM(f.total_price) as total_sale_price\n",
    "            FROM ecomdb.fact_table f\n",
    "            JOIN ecomdb.time_dim t ON f.time_key = t.time_key\n",
    "            WHERE t.year = 2015\n",
    "            \"\"\"\n",
    "            cur.execute(select_stmt)\n",
    "\n",
    "            # fetch the results\n",
    "            records = cur.fetchall()\n",
    "\n",
    "            # commit the transaction\n",
    "            cur.execute(\"COMMIT\")\n",
    "\n",
    "            # close the cursor\n",
    "            cur.close()\n",
    "            \n",
    "            return records\n",
    "\n",
    "        except Exception as e:\n",
    "            # rollback the transaction if an error occurs\n",
    "            cur.execute(\"ROLLBACK\")\n",
    "            print(\"Error occurred:\", e)\n",
    "\n",
    "        finally:\n",
    "            # close the connection\n",
    "            self.db_connection.close()\n",
    "\n",
    "\n",
    "# Create a PostgresConnection object and pass it to the SalesByYear class\n",
    "db_conn = PostgresConnection().getConnection()\n",
    "sales_year = SalesByYear(db_conn)\n",
    "sales_by_year_data = sales_year.get_sales_by_year()\n",
    "print(f\"Total sales in 2015: {sales_by_year_data}\")"
   ]
  },
  {
   "cell_type": "markdown",
   "id": "0e518cf5",
   "metadata": {},
   "source": [
    "#### Q5: Total sales of Dhaka in 2015 "
   ]
  },
  {
   "cell_type": "code",
   "execution_count": 31,
   "id": "29e46f19",
   "metadata": {},
   "outputs": [
    {
     "name": "stdout",
     "output_type": "stream",
     "text": [
      "Successfully Connected!\n",
      "Total sales of Dhaka in 2015: [(None,)]\n"
     ]
    }
   ],
   "source": [
    "class SalesByDistrict:\n",
    "    def __init__(self, db_connection):\n",
    "        self.db_connection = db_connection\n",
    "    \n",
    "    def get_sales_by_district(self):\n",
    "        try:\n",
    "            cur = self.db_connection.cursor()\n",
    "            cur.execute(\"BEGIN\")\n",
    "\n",
    "            select_stmt = \"\"\"\n",
    "            SELECT SUM(f.total_price) as total_sale_price\n",
    "            FROM ecomdb.fact_table f\n",
    "            JOIN ecomdb.time_dim t ON f.time_key = t.time_key\n",
    "            JOIN ecomdb.store_dim s ON f.store_key = s.store_key\n",
    "            WHERE s.district = 'Dhaka' AND t.year = 2015\n",
    "            \"\"\"\n",
    "            cur.execute(select_stmt)\n",
    "            records = cur.fetchall()\n",
    "\n",
    "            cur.execute(\"COMMIT\")\n",
    "            cur.close()\n",
    "            \n",
    "            return records\n",
    "\n",
    "        except Exception as e:\n",
    "            cur.execute(\"ROLLBACK\")\n",
    "            print(\"Error occurred:\", e)\n",
    "\n",
    "        finally:\n",
    "            self.db_connection.close()\n",
    "\n",
    "db_conn = PostgresConnection().getConnection()\n",
    "sales_district = SalesByDistrict(db_conn)\n",
    "sales_by_district_data = sales_district.get_sales_by_district()\n",
    "print(f\"Total sales of Dhaka in 2015: {sales_by_district_data}\")"
   ]
  },
  {
   "cell_type": "markdown",
   "id": "2f7f03d8",
   "metadata": {},
   "source": [
    "#### Q6: For each store(item supplier), what are the top three products offered that are most often purchased? "
   ]
  },
  {
   "cell_type": "code",
   "execution_count": 32,
   "id": "686bbb85",
   "metadata": {},
   "outputs": [
    {
     "name": "stdout",
     "output_type": "stream",
     "text": [
      "Successfully Connected!\n",
      "   Store                                 Item  Quantity Sold\n",
      "0  S0001                   Pepsi - 12 oz cans             92\n",
      "1  S0001  Muscle Milk Protein Shake Van. 11oz             90\n",
      "2  S0001     Hefty Supreme Foam Plates 6 inch             78\n"
     ]
    }
   ],
   "source": [
    "class SalesByStoreItem:\n",
    "    def __init__(self, db_connection):\n",
    "        self.db_connection = db_connection\n",
    "    \n",
    "    def get_sales_by_store_item(self):\n",
    "        try:\n",
    "            cur = self.db_connection.cursor()\n",
    "            cur.execute(\"BEGIN\")\n",
    "\n",
    "            query = \"\"\"\n",
    "            SELECT store_dim.store_key AS Store, \n",
    "                   item_dim.item_name AS Item, \n",
    "                   SUM(fact_table.quantity) AS Quantity_Sold\n",
    "            FROM ecomdb.fact_table\n",
    "            JOIN ecomdb.store_dim ON fact_table.store_key = store_dim.store_key\n",
    "            JOIN ecomdb.item_dim ON fact_table.item_key = item_dim.item_key\n",
    "            GROUP BY store_dim.store_key, item_dim.item_name\n",
    "            ORDER BY store_dim.store_key, SUM(fact_table.quantity) DESC\n",
    "            LIMIT 3;\n",
    "            \"\"\"\n",
    "            cur.execute(query)\n",
    "\n",
    "            results_df = pd.DataFrame(cur.fetchall(), columns=['Store', 'Item', 'Quantity Sold'])\n",
    "\n",
    "            cur.execute(\"COMMIT\")\n",
    "\n",
    "            cur.close()\n",
    "\n",
    "            return results_df\n",
    "\n",
    "        except Exception as e:\n",
    "            cur.execute(\"ROLLBACK\")\n",
    "            print(\"Error occurred:\", e)\n",
    "\n",
    "        finally:\n",
    "            self.db_connection.close()\n",
    "db_conn = PostgresConnection().getConnection()\n",
    "sales_store_item = SalesByStoreItem(db_conn)\n",
    "sales_by_store_item_data = sales_store_item.get_sales_by_store_item()\n",
    "print(sales_by_store_item_data)\n",
    "\n",
    "db_conn.close()"
   ]
  },
  {
   "cell_type": "markdown",
   "id": "6d734481",
   "metadata": {},
   "source": [
    "#### Q7: What products have been sold through card or mobile since X days? "
   ]
  },
  {
   "cell_type": "code",
   "execution_count": 33,
   "id": "a1de1e9b",
   "metadata": {},
   "outputs": [
    {
     "name": "stdout",
     "output_type": "stream",
     "text": [
      "Successfully Connected!\n",
      "Error occurred: operator does not exist: text >= timestamp without time zone\n",
      "LINE 8:                 AND ecomdb.time_dim.date >= current_date - I...\n",
      "                                                 ^\n",
      "HINT:  No operator matches the given name and argument types. You might need to add explicit type casts.\n",
      "\n",
      "Recent items sold via card or mobile in the last 5 days: None\n"
     ]
    }
   ],
   "source": [
    "class RecentItems:\n",
    "    def __init__(self, db_connection, days):\n",
    "        self.db_connection = db_connection\n",
    "        self.days = days\n",
    "    \n",
    "    def get_recent_items(self):\n",
    "        try:\n",
    "            cur = self.db_connection.cursor()\n",
    "            cur.execute(\"BEGIN\")\n",
    "            select_stmt = f\"\"\"\n",
    "            SELECT DISTINCT ecomdb.item_dim.item_name\n",
    "            FROM ecomdb.fact_table\n",
    "            JOIN ecomdb.time_dim ON ecomdb.fact_table.time_key = ecomdb.time_dim.time_key\n",
    "            JOIN ecomdb.trans_dim ON ecomdb.fact_table.payment_key = ecomdb.trans_dim.payment_key\n",
    "            JOIN ecomdb.item_dim ON ecomdb.fact_table.item_key = ecomdb.item_dim.item_key\n",
    "            WHERE (ecomdb.trans_dim.trans_type = 'card' OR ecomdb.trans_dim.trans_type = 'mobile')\n",
    "                AND ecomdb.time_dim.date >= current_date - INTERVAL '{self.days} days'\n",
    "            \"\"\"\n",
    "            cur.execute(select_stmt)\n",
    "            records = cur.fetchall()\n",
    "            cur.execute(\"COMMIT\")\n",
    "            cur.close()\n",
    "            \n",
    "            return [record[0] for record in records]\n",
    "\n",
    "        except Exception as e:\n",
    "            cur.execute(\"ROLLBACK\")\n",
    "            print(\"Error occurred:\", e)\n",
    "\n",
    "        finally:\n",
    "            self.db_connection.close()\n",
    "\n",
    "db_conn = PostgresConnection().getConnection()\n",
    "recent_items = RecentItems(db_conn, 5)\n",
    "recent_items_data = recent_items.get_recent_items()\n",
    "print(f\"Recent items sold via card or mobile in the last 5 days: {recent_items_data}\")"
   ]
  },
  {
   "cell_type": "markdown",
   "id": "bff23724",
   "metadata": {},
   "source": [
    "#### Q8: What season(quarter) is the worst for each product item? "
   ]
  },
  {
   "cell_type": "code",
   "execution_count": 34,
   "id": "e0d9d14d",
   "metadata": {},
   "outputs": [
    {
     "name": "stdout",
     "output_type": "stream",
     "text": [
      "Successfully Connected!\n",
      "Worst quarters for each product:\n",
      "                                      Item Worst Quarter\n",
      "0          100% Juice Box Variety 6.75 oz             Q1\n",
      "1               A&W Root Beer - 12 oz cans            Q2\n",
      "2          A&W Root Beer Diet - 12 oz cans            Q4\n",
      "3                     Advil 2 pill packets            Q1\n",
      "4            All Purpose Cleaner 409 Spray            Q1\n",
      "..                                     ...           ...\n",
      "254        Welch's 100% Juice Variety10 oz            Q2\n",
      "255     Wint O Green LifeSavers Sugar Free            Q1\n",
      "256        Wonderful Pistachios (in shell)            Q1\n",
      "257  Yoplait Original Yogurt Variety Pack             Q1\n",
      "258            Zoo Animal Cookies/Crackers            Q1\n",
      "\n",
      "[259 rows x 2 columns]\n"
     ]
    }
   ],
   "source": [
    "class WorstQuarters:\n",
    "    def __init__(self, db_connection):\n",
    "        self.db_connection = db_connection\n",
    "    \n",
    "    def get_worst_quarters(self):\n",
    "        try:\n",
    "            cur = self.db_connection.cursor()\n",
    "            cur.execute(\"BEGIN\")\n",
    "\n",
    "            query = \"\"\"\n",
    "            SELECT ecomdb.item_dim.item_name, ecomdb.time_dim.quarter,\n",
    "                SUM(ecomdb.fact_table.quantity) AS quantity_sales\n",
    "            FROM ecomdb.fact_table\n",
    "            JOIN ecomdb.item_dim ON ecomdb.fact_table.item_key = ecomdb.item_dim.item_key\n",
    "            JOIN ecomdb.time_dim ON ecomdb.fact_table.time_key = ecomdb.time_dim.time_key\n",
    "            GROUP BY ROLLUP(ecomdb.item_dim.item_name, ecomdb.time_dim.quarter)\n",
    "            HAVING ecomdb.item_dim.item_name IS NOT NULL AND ecomdb.time_dim.quarter IS NOT NULL\n",
    "            ORDER BY ecomdb.item_dim.item_name, SUM(ecomdb.fact_table.quantity) ASC\n",
    "            \"\"\"\n",
    "            cur.execute(query)\n",
    "\n",
    "            results_df = pd.DataFrame(cur.fetchall(), columns=['Item', 'Quarter', 'Quantity Sales'])\n",
    "\n",
    "            worst_quarters = {}\n",
    "            for index, row in results_df.iterrows():\n",
    "                item = row['Item']\n",
    "                quarter = row['Quarter']\n",
    "                sales = row['Quantity Sales']\n",
    "                if item not in worst_quarters:\n",
    "                    worst_quarters[item] = quarter\n",
    "\n",
    "                else:\n",
    "                    if sales < results_df.loc[(results_df['Item'] == item) & (results_df['Quarter'] == worst_quarters[item]), 'Quantity Sales'].values[0]:\n",
    "                        worst_quarters[item] = quarter\n",
    "\n",
    "            worst_quarters_df = pd.DataFrame(worst_quarters.items(), columns=['Item', 'Worst Quarter'])\n",
    "\n",
    "            cur.execute(\"COMMIT\")\n",
    "            cur.close()\n",
    "\n",
    "            return worst_quarters_df\n",
    "\n",
    "        except Exception as e:\n",
    "            cur.execute(\"ROLLBACK\")\n",
    "            print(\"Error occurred:\", e)\n",
    "\n",
    "        finally:\n",
    "            self.db_connection.close()\n",
    "\n",
    "db_conn = PostgresConnection().getConnection()\n",
    "worst_quarters = WorstQuarters(db_conn)\n",
    "worst_quarters_data = worst_quarters.get_worst_quarters()\n",
    "print(\"Worst quarters for each product:\")\n",
    "print(worst_quarters_data)\n",
    "\n",
    "db_conn.close()"
   ]
  },
  {
   "cell_type": "markdown",
   "id": "e50e4d35",
   "metadata": {},
   "source": [
    "#### Q9: Break down the total sales of items geographically (division-wise). "
   ]
  },
  {
   "cell_type": "code",
   "execution_count": 35,
   "id": "d5cfe68c",
   "metadata": {},
   "outputs": [
    {
     "name": "stdout",
     "output_type": "stream",
     "text": [
      "Successfully Connected!\n",
      "                                 Item    Division  Total Sales\n",
      "0     100% Juice Box Variety 6.75 oz     RAJSHAHI          NaN\n",
      "1     100% Juice Box Variety 6.75 oz        DHAKA          NaN\n",
      "2     100% Juice Box Variety 6.75 oz       KHULNA          NaN\n",
      "3     100% Juice Box Variety 6.75 oz      RANGPUR          NaN\n",
      "4     100% Juice Box Variety 6.75 oz       SYLHET          NaN\n",
      "...                               ...         ...          ...\n",
      "1808      Zoo Animal Cookies/Crackers     BARISAL          NaN\n",
      "1809      Zoo Animal Cookies/Crackers      SYLHET          NaN\n",
      "1810      Zoo Animal Cookies/Crackers  CHITTAGONG          NaN\n",
      "1811      Zoo Animal Cookies/Crackers      KHULNA          NaN\n",
      "1812      Zoo Animal Cookies/Crackers     RANGPUR          NaN\n",
      "\n",
      "[1813 rows x 3 columns]\n"
     ]
    }
   ],
   "source": [
    "class SalesByDivision:\n",
    "    def __init__(self, db_connection):\n",
    "        self.db_connection = db_connection\n",
    "    \n",
    "    def get_sales_by_division(self):\n",
    "        try:\n",
    "            cur = self.db_connection.cursor()\n",
    "            cur.execute(\"BEGIN\")\n",
    "            query = \"\"\"\n",
    "            SELECT ecomdb.item_dim.item_name, ecomdb.store_dim.division, SUM(ecomdb.fact_table.total_price) AS total_sales\n",
    "            FROM ecomdb.fact_table\n",
    "            JOIN ecomdb.item_dim ON ecomdb.fact_table.item_key = ecomdb.item_dim.item_key\n",
    "            JOIN ecomdb.store_dim ON ecomdb.fact_table.store_key = ecomdb.store_dim.store_key\n",
    "            GROUP BY ROLLUP(ecomdb.item_dim.item_name, ecomdb.store_dim.division)\n",
    "            HAVING ecomdb.item_dim.item_name IS NOT NULL AND ecomdb.store_dim.division IS NOT NULL\n",
    "            ORDER BY ecomdb.item_dim.item_name, SUM(ecomdb.fact_table.total_price) DESC\n",
    "            \"\"\"\n",
    "            cur.execute(query)\n",
    "            records = cur.fetchall()\n",
    "            cur.execute(\"COMMIT\")\n",
    "            cur.close()\n",
    "\n",
    "            results_df = pd.DataFrame(records, columns=['Item', 'Division', 'Total Sales'])\n",
    "            \n",
    "            return results_df\n",
    "\n",
    "        except Exception as e:\n",
    "            cur.execute(\"ROLLBACK\")\n",
    "            print(\"Error occurred:\", e)\n",
    "\n",
    "        finally:\n",
    "            self.db_connection.close()\n",
    "            \n",
    "db_conn = PostgresConnection().getConnection()\n",
    "sales_by_division = SalesByDivision(db_conn)\n",
    "sales_by_division_data = sales_by_division.get_sales_by_division()\n",
    "print(sales_by_division_data)\n",
    "\n",
    "db_conn.close()"
   ]
  },
  {
   "cell_type": "markdown",
   "id": "08c96975",
   "metadata": {},
   "source": [
    "#### Q10: What are the average sales of products sales per store monthly? "
   ]
  },
  {
   "cell_type": "code",
   "execution_count": 36,
   "id": "9735d0c7",
   "metadata": {},
   "outputs": [
    {
     "name": "stdout",
     "output_type": "stream",
     "text": [
      "Successfully Connected!\n",
      "      Store  Month             Avg Sales\n",
      "0     S0001      1  127.5000000000000000\n",
      "1     S0001      2                  None\n",
      "2     S0001      3  102.0000000000000000\n",
      "3     S0001      4  110.5000000000000000\n",
      "4     S0001      5                  None\n",
      "...     ...    ...                   ...\n",
      "8707  S0099      8  170.0000000000000000\n",
      "8708  S0099      9                  None\n",
      "8709  S0099     10                  None\n",
      "8710  S0099     11                  None\n",
      "8711  S0099     12                  None\n",
      "\n",
      "[8712 rows x 3 columns]\n"
     ]
    }
   ],
   "source": [
    "class SalesByMonth:\n",
    "    def __init__(self):\n",
    "        self.con = None\n",
    "        self.cur = None\n",
    "        self.results_df = None\n",
    "    \n",
    "    def execute_query(self):\n",
    "        self.con = PostgresConnection().getConnection()\n",
    "        self.cur = self.con.cursor()\n",
    "        query = \"\"\"\n",
    "        SELECT ecomdb.store_dim.store_key, ecomdb.time_dim.month, AVG(ecomdb.fact_table.total_price) AS avg_sales\n",
    "        FROM ecomdb.fact_table\n",
    "        JOIN ecomdb.store_dim ON ecomdb.fact_table.store_key = ecomdb.store_dim.store_key\n",
    "        JOIN ecomdb.time_dim ON ecomdb.fact_table.time_key = ecomdb.time_dim.time_key\n",
    "        GROUP BY ROLLUP(ecomdb.store_dim.store_key, ecomdb.time_dim.month)\n",
    "        HAVING ecomdb.store_dim.store_key IS NOT NULL AND ecomdb.time_dim.month IS NOT NULL\n",
    "        ORDER BY ecomdb.store_dim.store_key, ecomdb.time_dim.month\n",
    "        \"\"\"\n",
    "        self.cur.execute(query)\n",
    "        self.results_df = pd.DataFrame(self.cur.fetchall(), columns=['Store', 'Month', 'Avg Sales'])\n",
    "    \n",
    "    def print_results(self):\n",
    "        print(self.results_df)\n",
    "    \n",
    "    def close_connection(self):\n",
    "        self.cur.close()\n",
    "        self.con.close()\n",
    "        \n",
    "sales_by_month = SalesByMonth()\n",
    "sales_by_month.execute_query()\n",
    "sales_by_month.print_results()\n",
    "sales_by_month.close_connection()"
   ]
  },
  {
   "cell_type": "markdown",
   "id": "bf9fce99",
   "metadata": {},
   "source": [
    "## Data Visualization "
   ]
  },
  {
   "cell_type": "markdown",
   "id": "f3115dd1",
   "metadata": {},
   "source": [
    "#### 1. Total Revenue of Top five (5) Products "
   ]
  },
  {
   "cell_type": "code",
   "execution_count": 45,
   "id": "c4ffcd4c",
   "metadata": {},
   "outputs": [
    {
     "name": "stdout",
     "output_type": "stream",
     "text": [
      "Successfully Connected!\n"
     ]
    },
    {
     "data": {
      "image/png": "[encoded data removed]",
      "text/plain": [
       "<Figure size 640x480 with 1 Axes>"
      ]
     },
     "metadata": {},
     "output_type": "display_data"
    }
   ],
   "source": [
    "class TotalSalesByYear:\n",
    "    def __init__(self):\n",
    "        self.con = None\n",
    "        self.cur = None\n",
    "        self.results_df = None\n",
    "        \n",
    "    def execute_query(self):\n",
    "        # Establish database connection\n",
    "        self.con = PostgresConnection().getConnection()\n",
    "        self.cur = self.con.cursor()\n",
    "\n",
    "        # Write the query\n",
    "        query = '''\n",
    "            SELECT time_dim.year AS year, SUM(fact_table.total_price) AS total_sales\n",
    "            FROM ecomdb.fact_table\n",
    "            JOIN ecomdb.time_dim ON fact_table.time_key = time_dim.time_key\n",
    "            GROUP BY time_dim.year\n",
    "            ORDER BY time_dim.year\n",
    "        '''\n",
    "\n",
    "        # Execute the query\n",
    "        self.cur.execute(query)\n",
    "\n",
    "        # Fetch the results as a Pandas dataframe\n",
    "        self.results_df = pd.DataFrame(self.cur.fetchall(), columns=['Year', 'Total Sales'])\n",
    "        \n",
    "    def generate_visualization(self):\n",
    "        # Create a bar plot with total sales\n",
    "        plt.bar(self.results_df['Year'], self.results_df['Total Sales'])\n",
    "        plt.title('Total Sales by Year')\n",
    "        plt.xlabel('Year')\n",
    "        plt.ylabel('Total Sales (in USD)')\n",
    "        plt.show()\n",
    "        \n",
    "    def close_connection(self):\n",
    "        # Close the cursor and connection\n",
    "        self.cur.close()\n",
    "        self.con.close()\n",
    "        \n",
    "total_sales_by_year = TotalSalesByYear()\n",
    "total_sales_by_year.execute_query()\n",
    "total_sales_by_year.generate_visualization()\n",
    "total_sales_by_year.close_connection()"
   ]
  },
  {
   "cell_type": "markdown",
   "id": "23eec350",
   "metadata": {},
   "source": [
    "#### 2. Top 10 Items by Average Price and Revenue Over Time "
   ]
  },
  {
   "cell_type": "code",
   "execution_count": 47,
   "id": "25c7d0ff",
   "metadata": {},
   "outputs": [
    {
     "name": "stdout",
     "output_type": "stream",
     "text": [
      "Successfully Connected!\n"
     ]
    },
    {
     "data": {
      "image/png": "[encoded data removed]",
      "text/plain": [
       "<Figure size 1000x800 with 1 Axes>"
      ]
     },
     "metadata": {},
     "output_type": "display_data"
    },
    {
     "data": {
      "image/png": "[encoded data removed]",
      "text/plain": [
       "<Figure size 1000x800 with 1 Axes>"
      ]
     },
     "metadata": {},
     "output_type": "display_data"
    }
   ],
   "source": [
    "class FinancialAnalytics:\n",
    "    def __init__(self):\n",
    "        self.con = None\n",
    "        self.cur = None\n",
    "        self.results_df = None\n",
    "        \n",
    "    def execute_query(self):\n",
    "        self.con = PostgresConnection().getConnection()\n",
    "        self.cur = self.con.cursor()\n",
    "\n",
    "        item_query = '''\n",
    "            SELECT item_name, AVG(unit_price) AS average_price\n",
    "            FROM ecomdb.item_dim\n",
    "            GROUP BY item_name\n",
    "            ORDER BY average_price DESC\n",
    "            LIMIT 10;\n",
    "        '''\n",
    "        time_query = '''\n",
    "            SELECT year, quarter, month, SUM(total_price) AS total_revenue\n",
    "            FROM ecomdb.fact_table\n",
    "            JOIN ecomdb.time_dim ON ecomdb.fact_table.time_key = ecomdb.time_dim.time_key\n",
    "            GROUP BY year, quarter, month\n",
    "            ORDER BY year, quarter, month\n",
    "        '''\n",
    "\n",
    "        self.cur.execute(item_query)\n",
    "\n",
    "        self.item_results_df = pd.DataFrame(self.cur.fetchall(), columns=['Item Name', 'Average Price'])\n",
    "\n",
    "        self.cur.execute(time_query)\n",
    "\n",
    "        self.time_results_df = pd.DataFrame(self.cur.fetchall(), columns=['Year', 'Quarter', 'Month', 'Total Revenue'])\n",
    "\n",
    "\n",
    "    def generate_visualization(self):\n",
    "        fig, ax = plt.subplots(figsize=(10, 8))\n",
    "        ax.barh(self.item_results_df['Item Name'], self.item_results_df['Average Price'], color='purple')\n",
    "        ax.set_xlabel('Average Price')\n",
    "        ax.set_ylabel('Item Name')\n",
    "        ax.set_title('Top 10 Items by Average Price')\n",
    "        plt.tight_layout()\n",
    "        \n",
    "        fig, ax = plt.subplots(figsize=(10, 8))\n",
    "        \n",
    "        last_year_data = self.time_results_df.tail(12)\n",
    "        \n",
    "        ax.plot(last_year_data['Month'], last_year_data['Total Revenue'], label='Monthly Revenue')\n",
    "        ax.plot(last_year_data['Quarter'], last_year_data['Total Revenue'], label='Quarterly Revenue')\n",
    "        ax.plot(last_year_data['Year'], last_year_data['Total Revenue'], label='Yearly Revenue')\n",
    "        ax.set_xlabel('Time')\n",
    "        ax.set_ylabel('Total Revenue')\n",
    "        ax.set_title('Total Revenue over Time')\n",
    "        ax.legend()\n",
    "        plt.tight_layout()\n",
    "\n",
    "    def close_connection(self):\n",
    "        self.cur.close()\n",
    "        self.con.close()\n",
    "\n",
    "financial_analytics = FinancialAnalytics()\n",
    "financial_analytics.execute_query()\n",
    "financial_analytics.generate_visualization()\n",
    "financial_analytics.close_connection()\n"
   ]
  },
  {
   "cell_type": "markdown",
   "id": "af4231db",
   "metadata": {},
   "source": [
    "### 3. Distrution of Total Revenue by Customer "
   ]
  },
  {
   "cell_type": "code",
   "execution_count": 48,
   "id": "051db0a6",
   "metadata": {},
   "outputs": [
    {
     "name": "stdout",
     "output_type": "stream",
     "text": [
      "Successfully Connected!\n"
     ]
    },
    {
     "data": {
      "image/png": "[encoded data removed]",
      "text/plain": [
       "<Figure size 1000x800 with 1 Axes>"
      ]
     },
     "metadata": {},
     "output_type": "display_data"
    }
   ],
   "source": [
    "class TotalRevenueByCustomer:\n",
    "    def __init__(self):\n",
    "        self.con = None\n",
    "        self.cur = None\n",
    "        self.results_df = None\n",
    "    \n",
    "    def execute_query(self):\n",
    "        self.con = PostgresConnection().getConnection()\n",
    "        self.cur = self.con.cursor()\n",
    "\n",
    "        query = '''\n",
    "            SELECT customer_dim.name, SUM(fact_table.total_price) AS total_revenue\n",
    "            FROM ecomdb.fact_table\n",
    "            JOIN ecomdb.customer_dim ON fact_table.customer_key = customer_dim.customer_key\n",
    "            GROUP BY customer_dim.name\n",
    "            ORDER BY total_revenue DESC\n",
    "        '''\n",
    "\n",
    "        self.cur.execute(query)\n",
    "\n",
    "        self.results_df = pd.DataFrame(self.cur.fetchall(), columns=['Customer Name', 'Total Revenue'])\n",
    "\n",
    "    def generate_visualization(self):\n",
    "        fig, ax = plt.subplots(figsize=(10, 8))\n",
    "        ax.hist(self.results_df['Total Revenue'], bins=20)\n",
    "        ax.set_xlabel('Total Revenue')\n",
    "        ax.set_ylabel('Count')\n",
    "        ax.set_title('Distribution of Total Revenue by Customer')\n",
    "        plt.show()\n",
    "\n",
    "    def close_connection(self):\n",
    "        self.cur.close()\n",
    "        self.con.close()\n",
    "\n",
    "total_revenue_by_customer = TotalRevenueByCustomer()\n",
    "total_revenue_by_customer.execute_query()\n",
    "total_revenue_by_customer.generate_visualization()\n",
    "total_revenue_by_customer.close_connection()"
   ]
  },
  {
   "cell_type": "markdown",
   "id": "e904fcbb",
   "metadata": {},
   "source": [
    "## ***Data Warehouse Assignment*** "
   ]
  },
  {
   "cell_type": "raw",
   "id": "7eb59bf4",
   "metadata": {},
   "source": [
    "Task 4: The following are the list of analytics:\n",
    "\n",
    "        1. store and time dimensional financial analytics,\n",
    "        2. customer and time dimensional financial analytics,\n",
    "        3. item and time dimensional financial analytics,\n",
    "        4. store and time dimensional inventory analytics,\n",
    "        5. item and time dimensional inventory analytics.\n",
    "\n",
    "Every student must perform one of the above analytics. The number will selected as follows: ((Left most 7 digit of your ID) mod 5) + 1"
   ]
  },
  {
   "cell_type": "markdown",
   "id": "572f5638",
   "metadata": {},
   "source": [
    "### Find My probable Analytics\n",
    "\n",
    "##### Left 7 digit of my ID: 2315034\n",
    "##### Mod Result: 2315034 % 5 = 4\n",
    "##### Add 1 with Mod Value: 4 + 1 = 5\n",
    "        \n",
    "##### So the Analytics will be 5 (Inventory)."
   ]
  },
  {
   "cell_type": "markdown",
   "id": "2702cd86",
   "metadata": {},
   "source": [
    "## 5. item and time Dimensional Inventory Analytics."
   ]
  },
  {
   "cell_type": "code",
   "execution_count": 55,
   "id": "04438e0f",
   "metadata": {},
   "outputs": [],
   "source": [
    "def total_sales_over_time():\n",
    "    conn = PostgresConnection().getConnection()\n",
    "    cur = conn.cursor()\n",
    "    query = '''\n",
    "    SELECT date_trunc('day', time_dim.date) as date, SUM(fact_table.total_price) as total_sales\n",
    "    FROM ecomdb.fact_table\n",
    "    JOIN ecomdb.time_dim ON fact_table.time_key = time_dim.time_key\n",
    "    GROUP BY date_trunc('day', time_dim.date)\n",
    "    ORDER BY date_trunc('day', time_dim.date)\n",
    "    '''\n",
    "    cur.execute(query)\n",
    "    results = cur.fetchall()\n",
    "    df = pd.DataFrame(results, columns=['date', 'total_sales'])\n",
    "    conn.close()\n",
    "    return df\n",
    "\n",
    "def total_units_sold_over_time():\n",
    "    conn = PostgresConnection().getConnection()\n",
    "    cur = conn.cursor()\n",
    "    query = '''\n",
    "    SELECT DATE_TRUNC('day', time_dim.date) as date, SUM(fact_table.quantity) as total_units\n",
    "    FROM ecomdb.fact_table\n",
    "    JOIN ecomdb.time_dim ON fact_table.time_key = time_dim.time_key\n",
    "    GROUP BY DATE_TRUNC('day', time_dim.date)\n",
    "    ORDER BY DATE_TRUNC('day', time_dim.date)\n",
    "    '''\n",
    "    cur.execute(query)\n",
    "    results = cur.fetchall()\n",
    "    df = pd.DataFrame(results, columns=['date', 'total_units'])\n",
    "    conn.close()\n",
    "    return df\n",
    "\n",
    "def avg_price_per_unit_over_time():\n",
    "    conn = PostgresConnection().getConnection()\n",
    "    cur = conn.cursor()\n",
    "    query = '''\n",
    "    SELECT DATE_TRUNC('day', time_dim.date) as date, AVG(fact_table.unit_price) as avg_price_per_unit\n",
    "    FROM ecomdb.fact_table\n",
    "    JOIN ecomdb.time_dim ON fact_table.time_key = time_dim.time_key\n",
    "    GROUP BY DATE_TRUNC('day', time_dim.date)\n",
    "    ORDER BY DATE_TRUNC('day', time_dim.date)\n",
    "    '''\n",
    "    cur.execute(query)\n",
    "    results = cur.fetchall()\n",
    "    df = pd.DataFrame(results, columns=['date', 'avg_price_per_unit'])\n",
    "    conn.close()\n",
    "    return df\n",
    "\n",
    "def plot_total_sales_over_time():\n",
    "    df = total_sales_over_time()\n",
    "    plt.plot(df['date'], df['total_sales'])\n",
    "    plt.title('Total Sales over Time')\n",
    "    plt.xlabel('Date')\n",
    "    plt.ylabel('Total Sales')\n",
    "    plt.show()\n",
    "\n",
    "def plot_total_units_sold_over_time():\n",
    "    df = total_units_sold_over_time()\n",
    "    plt.plot(df['date'], df['total_units'])\n",
    "    plt.title('Total Units Sold over Time')\n",
    "    plt.xlabel('Date')\n",
    "    plt.ylabel('Total Units Sold')\n",
    "    plt.show()\n",
    "\n",
    "def plot_avg_price_per_unit_over_time():\n",
    "    df = avg_price_per_unit_over_time()\n",
    "    plt.plot(df['date'], df['avg_price_per_unit'])\n",
    "    plt.title('Average Price per Unit over Time')\n",
    "    plt.xlabel('Date')\n",
    "    plt.ylabel('Average Price per Unit')\n",
    "    plt.show()"
   ]
  },
  {
   "cell_type": "code",
   "execution_count": null,
   "id": "ba10edb4",
   "metadata": {},
   "outputs": [],
   "source": [
    "total_sales_over_time()\n",
    "total_units_sold_over_time()\n",
    "avg_price_per_unit_over_time()\n",
    "plot_total_sales_over_time()\n",
    "plot_total_units_sold_over_time()\n",
    "plot_avg_price_per_unit_over_time()"
   ]
  },
  {
   "cell_type": "code",
   "execution_count": 58,
   "id": "e35ce734",
   "metadata": {},
   "outputs": [
    {
     "name": "stdout",
     "output_type": "stream",
     "text": [
      "Note: you may need to restart the kernel to use updated packages.\n"
     ]
    },
    {
     "name": "stderr",
     "output_type": "stream",
     "text": [
      "WARNING: Retrying (Retry(total=4, connect=None, read=None, redirect=None, status=None)) after connection broken by 'NewConnectionError('<pip._vendor.urllib3.connection.HTTPSConnection object at 0x0000020A13CFD310>: Failed to establish a new connection: [Errno 11001] getaddrinfo failed')': /simple/geopandas/\n",
      "WARNING: Retrying (Retry(total=3, connect=None, read=None, redirect=None, status=None)) after connection broken by 'NewConnectionError('<pip._vendor.urllib3.connection.HTTPSConnection object at 0x0000020A13CFD640>: Failed to establish a new connection: [Errno 11001] getaddrinfo failed')': /simple/geopandas/\n",
      "WARNING: Retrying (Retry(total=2, connect=None, read=None, redirect=None, status=None)) after connection broken by 'NewConnectionError('<pip._vendor.urllib3.connection.HTTPSConnection object at 0x0000020A13CFD940>: Failed to establish a new connection: [Errno 11001] getaddrinfo failed')': /simple/geopandas/\n",
      "WARNING: Retrying (Retry(total=1, connect=None, read=None, redirect=None, status=None)) after connection broken by 'NewConnectionError('<pip._vendor.urllib3.connection.HTTPSConnection object at 0x0000020A13CFDAF0>: Failed to establish a new connection: [Errno 11001] getaddrinfo failed')': /simple/geopandas/\n",
      "WARNING: Retrying (Retry(total=0, connect=None, read=None, redirect=None, status=None)) after connection broken by 'NewConnectionError('<pip._vendor.urllib3.connection.HTTPSConnection object at 0x0000020A13CFDCA0>: Failed to establish a new connection: [Errno 11001] getaddrinfo failed')': /simple/geopandas/\n",
      "ERROR: Could not find a version that satisfies the requirement geopandas (from versions: none)\n",
      "ERROR: No matching distribution found for geopandas\n"
     ]
    }
   ],
   "source": [
    "pip install geopandas"
   ]
  },
  {
   "cell_type": "code",
   "execution_count": 50,
   "id": "63f63caa",
   "metadata": {},
   "outputs": [
    {
     "ename": "ModuleNotFoundError",
     "evalue": "No module named 'geopandas'",
     "output_type": "error",
     "traceback": [
      "\u001b[1;31m---------------------------------------------------------------------------\u001b[0m",
      "\u001b[1;31mModuleNotFoundError\u001b[0m                       Traceback (most recent call last)",
      "\u001b[1;32m~\\AppData\\Local\\Temp\\ipykernel_11624\\2199668242.py\u001b[0m in \u001b[0;36m<module>\u001b[1;34m\u001b[0m\n\u001b[1;32m----> 1\u001b[1;33m \u001b[1;32mimport\u001b[0m \u001b[0mgeopandas\u001b[0m \u001b[1;32mas\u001b[0m \u001b[0mgpd\u001b[0m\u001b[1;33m\u001b[0m\u001b[1;33m\u001b[0m\u001b[0m\n\u001b[0m\u001b[0;32m      2\u001b[0m \u001b[1;32mfrom\u001b[0m \u001b[0mshapely\u001b[0m\u001b[1;33m.\u001b[0m\u001b[0mgeometry\u001b[0m \u001b[1;32mimport\u001b[0m \u001b[0mPoint\u001b[0m\u001b[1;33m\u001b[0m\u001b[1;33m\u001b[0m\u001b[0m\n\u001b[0;32m      3\u001b[0m \u001b[1;33m\u001b[0m\u001b[0m\n\u001b[0;32m      4\u001b[0m \u001b[1;32mdef\u001b[0m \u001b[0msales_by_store_location\u001b[0m\u001b[1;33m(\u001b[0m\u001b[0mstart_date\u001b[0m\u001b[1;33m,\u001b[0m \u001b[0mend_date\u001b[0m\u001b[1;33m,\u001b[0m \u001b[0mchart_type\u001b[0m\u001b[1;33m=\u001b[0m\u001b[1;34m'bar'\u001b[0m\u001b[1;33m)\u001b[0m\u001b[1;33m:\u001b[0m\u001b[1;33m\u001b[0m\u001b[1;33m\u001b[0m\u001b[0m\n\u001b[0;32m      5\u001b[0m     \u001b[0mconn\u001b[0m \u001b[1;33m=\u001b[0m \u001b[0mPostgresConnection\u001b[0m\u001b[1;33m(\u001b[0m\u001b[1;33m)\u001b[0m\u001b[1;33m.\u001b[0m\u001b[0mgetConnection\u001b[0m\u001b[1;33m(\u001b[0m\u001b[1;33m)\u001b[0m\u001b[1;33m\u001b[0m\u001b[1;33m\u001b[0m\u001b[0m\n",
      "\u001b[1;31mModuleNotFoundError\u001b[0m: No module named 'geopandas'"
     ]
    }
   ],
   "source": [
    "import geopandas as gpd\n",
    "from shapely.geometry import Point\n",
    "\n",
    "def sales_by_store_location(start_date, end_date, chart_type='bar'):\n",
    "    conn = PostgresConnection().getConnection()\n",
    "    cur = conn.cursor()\n",
    "\n",
    "    query = f'''\n",
    "        SELECT ecomdb.store_dim.upazila, SUM(ecomdb.fact_table.total_price) as total_sales\n",
    "        FROM ecomdb.fact_table\n",
    "        JOIN ecomdb.store_dim ON ecomdb.fact_table.store_key = ecomdb.store_dim.store_key\n",
    "        JOIN ecomdb.time_dim ON ecomdb.fact_table.time_key = ecomdb.time_dim.time_key\n",
    "        WHERE ecomdb.time_dim.date BETWEEN '{start_date}' AND '{end_date}'\n",
    "        GROUP BY ecomdb.store_dim.upazila\n",
    "        ORDER BY total_sales DESC\n",
    "        '''\n",
    "    cur.execute(query)\n",
    "    \n",
    "    results = cur.fetchall()\n",
    "    df = pd.DataFrame(results, columns=['upazila_name', 'total_sales'])\n",
    "\n",
    "    if chart_type == 'map':\n",
    "        upazila_shapefile = gpd.read_file('upazilas.shp')\n",
    "        \n",
    "        df['geometry'] = df['upazila_name'].apply(lambda x: Point(upazila_shapefile[upazila_shapefile['NAME_3']==x].centroid))\n",
    "        \n",
    "        gdf = gpd.GeoDataFrame(df, geometry='geometry')\n",
    "        \n",
    "        upazila_sales = upazila_shapefile.merge(gdf, on='upazila_name')\n",
    "        \n",
    "        fig, ax = plt.subplots(figsize=(10,10))\n",
    "        ax.axis('off')\n",
    "        ax.set_title(f'Total Sales by Upazila ({start_date} to {end_date})', fontdict={'fontsize': '18', 'fontweight' : '3'})\n",
    "        upazila_sales.plot(column='total_sales', cmap='YlOrRd', linewidth=0.8, ax=ax, edgecolor='0.8', legend=True)\n",
    "        \n",
    "    elif chart_type == 'bar':\n",
    "        plt.figure(figsize=(15,5))\n",
    "        plt.bar(df['upazila_name'], df['total_sales'])\n",
    "        plt.title(f'Total Sales by Upazila ({start_date} to {end_date})')\n",
    "        plt.xlabel('Upazila', fontsize=14)\n",
    "        plt.xticks(rotation=90)\n",
    "        plt.ylabel('Total Sales (BDT)')\n",
    "        plt.show()\n",
    "    \n",
    "    cur.close()\n",
    "    conn.close()\n",
    "\n",
    "start_date = '2015-01-01'\n",
    "end_date = '2023-04-19'\n",
    "sales_by_store_location(start_date, end_date)"
   ]
  },
  {
   "cell_type": "code",
   "execution_count": 59,
   "id": "5d97e33c",
   "metadata": {},
   "outputs": [
    {
     "ename": "ModuleNotFoundError",
     "evalue": "No module named 'geopandas'",
     "output_type": "error",
     "traceback": [
      "\u001b[1;31m---------------------------------------------------------------------------\u001b[0m",
      "\u001b[1;31mModuleNotFoundError\u001b[0m                       Traceback (most recent call last)",
      "\u001b[1;32m~\\AppData\\Local\\Temp\\ipykernel_11624\\1189470425.py\u001b[0m in \u001b[0;36m<module>\u001b[1;34m\u001b[0m\n\u001b[1;32m----> 1\u001b[1;33m \u001b[1;32mimport\u001b[0m \u001b[0mgeopandas\u001b[0m \u001b[1;32mas\u001b[0m \u001b[0mgpd\u001b[0m\u001b[1;33m\u001b[0m\u001b[1;33m\u001b[0m\u001b[0m\n\u001b[0m\u001b[0;32m      2\u001b[0m \u001b[1;32mfrom\u001b[0m \u001b[0mshapely\u001b[0m\u001b[1;33m.\u001b[0m\u001b[0mgeometry\u001b[0m \u001b[1;32mimport\u001b[0m \u001b[0mPoint\u001b[0m\u001b[1;33m\u001b[0m\u001b[1;33m\u001b[0m\u001b[0m\n\u001b[0;32m      3\u001b[0m \u001b[1;33m\u001b[0m\u001b[0m\n\u001b[0;32m      4\u001b[0m \u001b[1;32mdef\u001b[0m \u001b[0msales_by_payment_type\u001b[0m\u001b[1;33m(\u001b[0m\u001b[0mstart_date\u001b[0m\u001b[1;33m,\u001b[0m \u001b[0mend_date\u001b[0m\u001b[1;33m,\u001b[0m \u001b[0mchart_type\u001b[0m\u001b[1;33m=\u001b[0m\u001b[1;34m'bar'\u001b[0m\u001b[1;33m)\u001b[0m\u001b[1;33m:\u001b[0m\u001b[1;33m\u001b[0m\u001b[1;33m\u001b[0m\u001b[0m\n\u001b[0;32m      5\u001b[0m     \u001b[0mconn\u001b[0m \u001b[1;33m=\u001b[0m \u001b[0mPostgresConnection\u001b[0m\u001b[1;33m(\u001b[0m\u001b[1;33m)\u001b[0m\u001b[1;33m.\u001b[0m\u001b[0mgetConnection\u001b[0m\u001b[1;33m(\u001b[0m\u001b[1;33m)\u001b[0m\u001b[1;33m\u001b[0m\u001b[1;33m\u001b[0m\u001b[0m\n",
      "\u001b[1;31mModuleNotFoundError\u001b[0m: No module named 'geopandas'"
     ]
    }
   ],
   "source": [
    "import geopandas as gpd\n",
    "from shapely.geometry import Point\n",
    "\n",
    "def sales_by_payment_type(start_date, end_date, chart_type='bar'):\n",
    "    conn = PostgresConnection().getConnection()\n",
    "\n",
    "    cur = conn.cursor()\n",
    "    \n",
    "    query = f'''\n",
    "        SELECT ecomdb.trans_dim.trans_type, SUM(ecomdb.fact_table.total_price) as total_sales\n",
    "        FROM ecomdb.fact_table\n",
    "        JOIN ecomdb.trans_dim ON ecomdb.fact_table.payment_key = ecomdb.trans_dim.payment_key\n",
    "        JOIN ecomdb.time_dim ON ecomdb.fact_table.time_key = ecomdb.time_dim.time_key\n",
    "        WHERE ecomdb.time_dim.date BETWEEN '{start_date}' AND '{end_date}'\n",
    "        GROUP BY ecomdb.trans_dim.trans_type\n",
    "        ORDER BY total_sales DESC\n",
    "        '''\n",
    "    \n",
    "    cur.execute(query)\n",
    "    \n",
    "    results = cur.fetchall()\n",
    "    df = pd.DataFrame(results, columns=['payment_type', 'total_sales'])\n",
    "    \n",
    "    if chart_type == 'pie':\n",
    "        plt.figure(figsize=(8,8))\n",
    "        plt.pie(df['total_sales'], labels=df['payment_type'], autopct='%1.1f%%', startangle=90)\n",
    "        plt.title(f'Total Sales by Payment Type ({start_date} to {end_date})')\n",
    "        plt.show()\n",
    "        \n",
    "    elif chart_type == 'bar':\n",
    "        plt.figure(figsize=(10,5))\n",
    "        plt.bar(df['payment_type'], df['total_sales'])\n",
    "        plt.title(f'Total Sales by Payment Type ({start_date} to {end_date})')\n",
    "        plt.xlabel('Payment Type')\n",
    "        plt.xticks(rotation=45)\n",
    "        plt.ylabel('Total Sales (BDT)')\n",
    "        plt.show()\n",
    " \n",
    "    cur.close()\n",
    "    conn.close()\n",
    "    \n",
    "start_date = '2015-01-01'\n",
    "end_date = '2023-05-30'\n",
    "chart_type = 'bar' \n",
    "sales_by_payment_type(start_date, end_date, chart_type)"
   ]
  },
  {
   "cell_type": "code",
   "execution_count": null,
   "id": "9a830b3c",
   "metadata": {},
   "outputs": [],
   "source": []
  }
 ],
 "metadata": {
  "kernelspec": {
   "display_name": "Python 3 (ipykernel)",
   "language": "python",
   "name": "python3"
  },
  "language_info": {
   "codemirror_mode": {
    "name": "ipython",
    "version": 3
   },
   "file_extension": ".py",
   "mimetype": "text/x-python",
   "name": "python",
   "nbconvert_exporter": "python",
   "pygments_lexer": "ipython3",
   "version": "3.9.13"
  }
 },
 "nbformat": 4,
 "nbformat_minor": 5
}
